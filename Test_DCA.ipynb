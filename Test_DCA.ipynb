{
 "cells": [
  {
   "cell_type": "code",
   "execution_count": null,
   "metadata": {},
   "outputs": [],
   "source": [
    "from dca import DynamicalComponentsAnalysis as DCA"
   ]
  },
  {
   "cell_type": "code",
   "execution_count": null,
   "metadata": {},
   "outputs": [],
   "source": [
    "for sim in range(10):\n",
    "    x, y = generate_latents_and_observations(T, A, u, Q, C, d, R,  mu0=np.zeros((A.shape[0])), Q0 = np.eye(A.shape[0]))\n",
    "    dca_model = DCA(T=5, d=K, init='random', n_init=10)\n",
    "    dca_model.estimate_data_statistics(y) # only need to estimate this once\n",
    "    max_pi = dca_model.score() # PI of data with no dimensionality reduction\n",
    "    dca_model.fit_projection(d=K, n_init=10)\n",
    "    V_opt = dca_model.coef_\n",
    "    print(np.linalg.norm(V_opt-C)/(D*K)) # mean squared error"
   ]
  }
 ],
 "metadata": {
  "language_info": {
   "name": "python"
  }
 },
 "nbformat": 4,
 "nbformat_minor": 2
}
